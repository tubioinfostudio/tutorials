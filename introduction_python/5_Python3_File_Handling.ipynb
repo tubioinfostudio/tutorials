{
 "cells": [
  {
   "cell_type": "markdown",
   "metadata": {},
   "source": [
    "# Hello and welcome to `file handling` in Pythyon3\n",
    "My name is Jordan and I will be guiding you through this tutorial."
   ]
  },
  {
   "cell_type": "markdown",
   "metadata": {},
   "source": [
    "I want to start off with a disclaimer, this is not a comprehensive overview, this is ment to be an introduction. Furthermore, **do not be afraid to read [documentation](https://docs.python.org/3/)**. These subjects can be tricky, and it is actually very useful (and can even be fun) to read the docs to get a better idea of how to properly use them."
   ]
  },
  {
   "cell_type": "markdown",
   "metadata": {},
   "source": [
    "#### We are going to take some time to look at file handling, as this will become a very routine facet of your daily coding life. \n",
    "\n",
    "File handling can actually be an art, as there are many talents involved in this task. You will be required to know your data intimitely. We will deal with **fasta** and **txt** formats. "
   ]
  },
  {
   "cell_type": "markdown",
   "metadata": {},
   "source": [
    "### For the first item in the list, the `fasta` file, we will use a little built in tool from Bio Python. \n",
    "\n",
    "This makes our job very easy, however, it should not be forgotten that knowing how to manually parse these files yields a higher attention to detail, and can actually allow your program to run much faster and take up less space."
   ]
  },
  {
   "cell_type": "code",
   "execution_count": null,
   "metadata": {},
   "outputs": [],
   "source": [
    "'''\n",
    "Bio Python, easy way\n",
    "We will import the library \n",
    "and then use it to parse a fasta file.\n",
    "\n",
    "We are just using a simple list comprehension \n",
    "so that we can grab each record out of the parsed fasta file.\n",
    "We are using the SeqIO.parse library to parse our file.\n",
    "'''\n",
    "\n",
    "\n",
    "from Bio import SeqIO\n",
    "records = [record for record in SeqIO.parse(\"small_temp.fasta\", \"fasta\")]\n"
   ]
  },
  {
   "cell_type": "markdown",
   "metadata": {},
   "source": [
    "Now  lets look at the methods we have that are available to us. We will use our trusty `dir` function, but first let look at what `type` each record even is."
   ]
  },
  {
   "cell_type": "code",
   "execution_count": null,
   "metadata": {},
   "outputs": [],
   "source": [
    "# we are just indexing the first item in our list \n",
    "# and printing that type\n",
    "print(type(records[0]))"
   ]
  },
  {
   "cell_type": "markdown",
   "metadata": {},
   "source": [
    "So each type is a Bio.SeqRecord.SeqRecord... ok well what methods are available to use to use?"
   ]
  },
  {
   "cell_type": "code",
   "execution_count": null,
   "metadata": {},
   "outputs": [],
   "source": [
    "print(dir(records[0]))"
   ]
  },
  {
   "cell_type": "markdown",
   "metadata": {},
   "source": [
    "Ok so there are some useful methods here, lets look at a few."
   ]
  },
  {
   "cell_type": "code",
   "execution_count": null,
   "metadata": {},
   "outputs": [],
   "source": [
    "first_record = records[0]\n",
    "\n",
    "print(\"this is the first record's ID: \", first_record.id)\n",
    "print('\\n')\n",
    "print(\"this is the first record's sequence: \", first_record.seq)\n",
    "print('\\n')\n",
    "print(\"this is the first record's reverse complement: \", first_record.reverse_complement)\n",
    "print('\\n')\n",
    "print(\"this is the first record's translated sequence is: \", first_record.translate)\n"
   ]
  },
  {
   "cell_type": "markdown",
   "metadata": {},
   "source": [
    "#### As you can see, this is a very handy library, and can make your life of parsing fasta files a snap! \n",
    "\n",
    "There is a dirty secret though... this method actually takes up a lot of space in memory, so often times it is more efficient to write a parser that reads in your headers and sequences on your own instead of storing all this extra information. Try writing your own parse if you dare!"
   ]
  },
  {
   "cell_type": "markdown",
   "metadata": {},
   "source": [
    "### Now lets look at a `text` file. These are often seen as `some_file.txt`. We will work with the same fasta file as above, but parse it as a text file,  and save the information first as two `list`'s. Then I will show you how to save the information as a `dict`."
   ]
  },
  {
   "cell_type": "code",
   "execution_count": null,
   "metadata": {},
   "outputs": [],
   "source": [
    "# initialize both lists to hold our data\n",
    "\n",
    "ids = []\n",
    "seqs = []\n",
    "\n",
    "with open('small_temp.fasta','r') as in_file:\n",
    "    for line in in_file:\n",
    "        #print(line)\n",
    "        if line.startswith('>'):\n",
    "            ids.append(line.strip())\n",
    "        else:\n",
    "            seqs.append(line.strip())\n",
    "            \n",
    "print(ids)"
   ]
  },
  {
   "cell_type": "markdown",
   "metadata": {},
   "source": [
    "#### Great, so it looks like we have our information, but a lot just happened, so lets break it down.\n",
    "\n",
    "First, we used `with` to `open` our file and used the `r` as a `read` format. We just called this `in_file` (you can name it anything you want. Then we used a for loop to iterate over the file. Using some logic and some string tricks we've learned previously, we said \"if the string starts with a `'>'` character, then `strip()` your line of a new line character and save `append` your information to the `ids` list. If your string **does not** start with that character, then strip your line of a new line character, and append your information to the `seqs` list.\n",
    "\n",
    "This is a fine way to do it... but we still are storing **two**  lists into memory... how can  we do this by just storing **one** data  structure into memory? You guessed it, a dictionary! Remember, if you are thinking, \"wait, what about a `tuple`?\", keep in mind that the `tuple` is immutable, meaning we cannot modify it. We would have to save our information first as a list and **then** change our information into a `tuple`. Thus, we will work with a `dict`."
   ]
  },
  {
   "cell_type": "code",
   "execution_count": null,
   "metadata": {},
   "outputs": [],
   "source": [
    "# initialize our dict\n",
    "id_seq_dict = {}\n",
    "\n",
    "with open('small_temp.fasta','r') as in_file:\n",
    "    for line in in_file:\n",
    "        if line.startswith('>'):\n",
    "            ID_line = line.strip()\n",
    "        else:\n",
    "            SEQ_line = line.strip()\n",
    "            \n",
    "            id_seq_dict[ID_line] = SEQ_line\n",
    "            \n",
    "            # you can also do it this way:\n",
    "#             temp_dict = {ID_line:SEQ_line}\n",
    "#             id_seq_dict.update(temp_dict)\n",
    "    \n",
    "    \n",
    "    "
   ]
  },
  {
   "cell_type": "code",
   "execution_count": null,
   "metadata": {},
   "outputs": [],
   "source": [
    "print(id_seq_dict)"
   ]
  },
  {
   "cell_type": "markdown",
   "metadata": {},
   "source": [
    "#### Great, so now that we have the data, lets actually `write` it to a file!"
   ]
  },
  {
   "cell_type": "code",
   "execution_count": null,
   "metadata": {},
   "outputs": [],
   "source": [
    "'''\n",
    "notice we are giving this a file name and telling it to 'write' \n",
    "with 'w'\n",
    "I know we just used a dict, but lets write this file using\n",
    "the lists that we build above.\n",
    "'''\n",
    "\n",
    "with open('my_file.txt', 'w') as outfile:\n",
    "    for i in ids:\n",
    "        outfile.write(i)\n",
    "        outfile.write('\\n')\n",
    "    "
   ]
  },
  {
   "cell_type": "markdown",
   "metadata": {},
   "source": [
    "#### And that is it!\n",
    "We just wrote all of our sequence ID's to a file called `my_file.txt` and added a new line character to each line so that our text file will be more readable. If you want to export a list of gene names to a new file after reading in a fasta file, this is how you could do it!"
   ]
  },
  {
   "cell_type": "markdown",
   "metadata": {},
   "source": [
    "#### This is very cool! now we see that we can manually read in our data with either libraries, or manually with our own data structures! \n",
    "\n",
    "Do not be afraid of working with files, they can be tricky at first, but with some practice it becomes quite fun!"
   ]
  },
  {
   "cell_type": "code",
   "execution_count": null,
   "metadata": {},
   "outputs": [],
   "source": []
  }
 ],
 "metadata": {
  "kernelspec": {
   "display_name": "Python 3",
   "language": "python",
   "name": "python3"
  },
  "language_info": {
   "codemirror_mode": {
    "name": "ipython",
    "version": 3
   },
   "file_extension": ".py",
   "mimetype": "text/x-python",
   "name": "python",
   "nbconvert_exporter": "python",
   "pygments_lexer": "ipython3",
   "version": "3.6.5"
  }
 },
 "nbformat": 4,
 "nbformat_minor": 2
}
