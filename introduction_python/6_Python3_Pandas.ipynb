{
 "cells": [
  {
   "cell_type": "markdown",
   "metadata": {},
   "source": [
    "# Hello and welcome to `PANDAS`'s in Pythyon3\n",
    "My name is Alyssa and I will be guiding you through this tutorial."
   ]
  },
  {
   "cell_type": "markdown",
   "metadata": {},
   "source": [
    "I want to start off with a disclaimer, this is not a comprehensive overview, this is ment to be an introduction. Furthermore, **do not be afraid to read [documentation](https://pandas.pydata.org/pandas-docs/stable/)**. These subjects can be tricky, and it is actually very useful (and can even be fun) to read the docs to get a better idea of how to properly use them."
   ]
  },
  {
   "cell_type": "markdown",
   "metadata": {},
   "source": [
    "We're start working with a dataset of genes and do some exploratory data analysis (EDA).  To load this data set and pursue EDA, it is a good idea to use several popular Python packages, which come preloaded with the Anaconda software:\n",
    "\n",
    "pandas (http://pandas.pydata.org/) -- a library for data science\n",
    "numpy (http://www.numpy.org/) -- a library for data computations\n",
    "\n",
    "\n",
    "The main feature of pandas is its DataFrame data structure that provides an intuitive way of handling tabular data. The main feature of numpy is its array data structure that represents matrices and allows us to perform matrix algebra operations.\n",
    "\n",
    "As you will soon realize, each new Python library requires spending some time to learn about it. There are several nice tutorials that you can find on the web that get you started with the 2 libraries. When learning about the new libraries, you are best advised to jump in and immediatelly start tinkering with the code. The more time you spend using the library, the more you will uncover about all the great features and posibilities the library offers you.\n",
    "\n",
    "Let us start by loading the 2 libraries in a particular way that many data scientists prefer."
   ]
  },
  {
   "cell_type": "code",
   "execution_count": null,
   "metadata": {},
   "outputs": [],
   "source": [
    "import pandas as pd  ## import indicates we're loading a library into the code \n",
    "import numpy as np  ## \"as\" indicates the \"nickname\" that we're giving the library to call it within our code"
   ]
  },
  {
   "cell_type": "markdown",
   "metadata": {},
   "source": [
    "We're going to go ahead and open our gene_human.csv file.  The file contains a list of genes, their entrez ids, the chromosome, the start location, the end location, and the orientation of the gene.  "
   ]
  },
  {
   "cell_type": "code",
   "execution_count": null,
   "metadata": {},
   "outputs": [],
   "source": [
    "# read this csv file, remember to put the full path to \n",
    "# the directory where you saved the data\n",
    "df = pd.read_csv('gene_human.csv')  # df is DataFrame object\n",
    "print(df.head())    # see the first 5 rows of the loaded table"
   ]
  },
  {
   "cell_type": "code",
   "execution_count": null,
   "metadata": {},
   "outputs": [],
   "source": [
    "## How do you think you see the first 10 rows of the table?  Try it below.  \n",
    "\n",
    "## ADD YOUR CODE HERE ##\n",
    "\n"
   ]
  },
  {
   "cell_type": "markdown",
   "metadata": {},
   "source": [
    "There are different ways of exploring and indexing the table. Here are some examples."
   ]
  },
  {
   "cell_type": "code",
   "execution_count": null,
   "metadata": {},
   "outputs": [],
   "source": [
    "print(list(df.columns)) ## print the columns"
   ]
  },
  {
   "cell_type": "code",
   "execution_count": null,
   "metadata": {},
   "outputs": [],
   "source": [
    "print(df[0:5])         # print the first 5 rows, same outcome as df.head()"
   ]
  },
  {
   "cell_type": "code",
   "execution_count": null,
   "metadata": {},
   "outputs": [],
   "source": [
    "print(df[['gene', 'chr']][:10])  # print the first 10 rows for selected columns"
   ]
  },
  {
   "cell_type": "code",
   "execution_count": null,
   "metadata": {},
   "outputs": [],
   "source": [
    "print(df[df['chr'] == 5])   # using Boolean condition, print only genes on chr 5"
   ]
  },
  {
   "cell_type": "code",
   "execution_count": null,
   "metadata": {},
   "outputs": [],
   "source": [
    "print(df.iloc[[0,1,5],0:5])   # uses 'ix' indexing, selects rows and columns based on their location in the table"
   ]
  },
  {
   "cell_type": "markdown",
   "metadata": {},
   "source": [
    "You can also create smaller dataframes from your main dataframe.  "
   ]
  },
  {
   "cell_type": "code",
   "execution_count": null,
   "metadata": {},
   "outputs": [],
   "source": [
    "subsample_df = df[df['chr'] ==22]\n",
    "print(subsample_df)"
   ]
  },
  {
   "cell_type": "markdown",
   "metadata": {},
   "source": [
    "Try showing two ways of printing the last 5 rows of `df`. Then try printing the names of the genes on the - strand (-1 orientation)."
   ]
  },
  {
   "cell_type": "code",
   "execution_count": null,
   "metadata": {},
   "outputs": [],
   "source": [
    "## ADD YOUR CODE HERE ##\n",
    "\n",
    "\n"
   ]
  },
  {
   "cell_type": "markdown",
   "metadata": {},
   "source": [
    "Okay you have successfully completed our tutorial on **PANDAS**! If you have questions, try checking out the documentation, searching google, or reaching out to one of us for help!  "
   ]
  }
 ],
 "metadata": {
  "kernelspec": {
   "display_name": "Python 3",
   "language": "python",
   "name": "python3"
  },
  "language_info": {
   "codemirror_mode": {
    "name": "ipython",
    "version": 3
   },
   "file_extension": ".py",
   "mimetype": "text/x-python",
   "name": "python",
   "nbconvert_exporter": "python",
   "pygments_lexer": "ipython3",
   "version": "3.6.5"
  }
 },
 "nbformat": 4,
 "nbformat_minor": 2
}
