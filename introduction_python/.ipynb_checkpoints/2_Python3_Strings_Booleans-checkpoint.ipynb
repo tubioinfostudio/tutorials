{
 "cells": [
  {
   "cell_type": "markdown",
   "metadata": {},
   "source": [
    "# Hello and welcome to `str`'s and `bool`'s in Pythyon3\n",
    "My name is Jordan and I will be guiding you through this tutorial."
   ]
  },
  {
   "cell_type": "markdown",
   "metadata": {},
   "source": [
    "I want to start off with a disclaimer, this is not a comprehensive overview, this is ment to be an introduction. Furthermore, **do not be afraid to read [documentation](https://docs.python.org/3/)**. These subjects can be tricky, and it is actually very useful (and can even be fun) to read the docs to get a better idea of how to properly use them."
   ]
  },
  {
   "cell_type": "markdown",
   "metadata": {},
   "source": [
    "### Lets go over a few things first. These two data types are very handy, and can be very powerful in your scripts. \n",
    "The string `str` and the boolean `bool`, are both fairly straight forward, but can provide fun, and usefil logic gates in your programs. Lets dive in. "
   ]
  },
  {
   "cell_type": "markdown",
   "metadata": {},
   "source": [
    "### Our `types`\n",
    "#### Strings\n",
    "- a collection of characters ('a', 'hello','the cat is blue', etc)\n",
    "- they are denoted with the \" ' \" or ' \" ', in Python it can be either. These are `immutable` which means they cannot be changed ones they are made\n",
    "\n",
    "#### Boolean\n",
    "- logic, either true or false (True, False)"
   ]
  },
  {
   "cell_type": "code",
   "execution_count": null,
   "metadata": {},
   "outputs": [],
   "source": [
    "my_string = 'ELE'"
   ]
  },
  {
   "cell_type": "markdown",
   "metadata": {},
   "source": [
    "Lets start with the string."
   ]
  },
  {
   "cell_type": "code",
   "execution_count": null,
   "metadata": {},
   "outputs": [],
   "source": [
    "print(my_string)\n",
    "print(type(my_string))"
   ]
  },
  {
   "cell_type": "markdown",
   "metadata": {},
   "source": [
    "Lets see what methods Python3 already has built in to manipulate strings"
   ]
  },
  {
   "cell_type": "code",
   "execution_count": null,
   "metadata": {},
   "outputs": [],
   "source": [
    "dir(my_string)"
   ]
  },
  {
   "cell_type": "markdown",
   "metadata": {},
   "source": [
    "As you can see, there are many, so lets just pick a few to mess with. "
   ]
  },
  {
   "cell_type": "code",
   "execution_count": null,
   "metadata": {},
   "outputs": [],
   "source": [
    "lower = my_string.lower()\n",
    "print(lower)"
   ]
  },
  {
   "cell_type": "markdown",
   "metadata": {},
   "source": [
    "Above, we changed my_string, which was all upper case, to lower case characters. We can also `split` the string... lets try"
   ]
  },
  {
   "cell_type": "code",
   "execution_count": null,
   "metadata": {},
   "outputs": [],
   "source": [
    "new = my_string.split('L')\n",
    "print(new)\n",
    "print(type(new))"
   ]
  },
  {
   "cell_type": "markdown",
   "metadata": {},
   "source": [
    "Ok so a few different things happened here... First, we split our string on the letter 'L'. which actually returned two `str`s in the form of a `list`. We will learn more about lists later. But, this split functionality can be very useful when  you need to organize data from a large string into separate bins. We are barely scratching the surface on `str`s so make sure you experiment!"
   ]
  },
  {
   "cell_type": "markdown",
   "metadata": {},
   "source": [
    "One more fun method we have is the `.startswith`. This is especially useful when we are working with fasta files and want to grab all of the headers of a file. We know that the headers start with '>Organism_1'. Thus, we can parse our file by reading in each line and if the line `.startswith('>')` then we can keep the line and do something with it"
   ]
  },
  {
   "cell_type": "markdown",
   "metadata": {},
   "source": [
    "### Ok lets look at bools"
   ]
  },
  {
   "cell_type": "markdown",
   "metadata": {},
   "source": [
    "We can use these statements as logic gatets in our programs. They  can be useful when parsing a file, or checking to see if a data structure has been populated. Lets look at some exampels."
   ]
  },
  {
   "cell_type": "code",
   "execution_count": null,
   "metadata": {},
   "outputs": [],
   "source": [
    "my_bool = True\n",
    "if my_bool:\n",
    "    print('yes, this is true')\n",
    "else:\n",
    "    print('sorry, it looks like its false')"
   ]
  },
  {
   "cell_type": "code",
   "execution_count": null,
   "metadata": {},
   "outputs": [],
   "source": [
    "my_bool = False\n",
    "if my_bool:\n",
    "    print('yes, this is true')\n",
    "else:\n",
    "    print('sorry, it looks like its false')"
   ]
  },
  {
   "cell_type": "markdown",
   "metadata": {},
   "source": [
    "So what happened above? In the first block, our variable was set to `True` so our first condition was completed. In our second block, our variable was set to `False` so our second condition was satisfied. This becomes very useful when parsing data files, lets write some sudo code (code that is not functional but is an outline of what we would want to write). **Do not run the block below, just look at it and move to the next, it gets all whacky if you try to run it**"
   ]
  },
  {
   "cell_type": "markdown",
   "metadata": {},
   "source": [
    "#we will combine a little bit of strings and bools together ##\n",
    "\n",
    "Read in a fasta file\n",
    "\n",
    "my_first = line.startswith('>')\n",
    "my_second = \"Dog_10\"\n",
    "\n",
    "for line in file:\n",
    "    if my_first and my_second in line:\n",
    "        print(\"I found your info!!\")\n"
   ]
  },
  {
   "cell_type": "markdown",
   "metadata": {},
   "source": [
    "So above we combined some string methods, and a bool. We are saying, for the lines in the fasta file, if the line starts with a '>' character, **AND** my search term of \"Dog_10\" is in the line, print \"I found  your info!!\". This means that **both** the first and second term in the if statement need to be true. You will learn about if statements and other logiv operators later. "
   ]
  },
  {
   "cell_type": "markdown",
   "metadata": {},
   "source": [
    "Again, this is a very simple introduction, so go wild and explore!"
   ]
  },
  {
   "cell_type": "code",
   "execution_count": null,
   "metadata": {},
   "outputs": [],
   "source": []
  }
 ],
 "metadata": {
  "kernelspec": {
   "display_name": "Python 3",
   "language": "python",
   "name": "python3"
  },
  "language_info": {
   "codemirror_mode": {
    "name": "ipython",
    "version": 3
   },
   "file_extension": ".py",
   "mimetype": "text/x-python",
   "name": "python",
   "nbconvert_exporter": "python",
   "pygments_lexer": "ipython3",
   "version": "3.6.5"
  }
 },
 "nbformat": 4,
 "nbformat_minor": 2
}
