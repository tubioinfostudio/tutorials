{
 "cells": [
  {
   "cell_type": "markdown",
   "metadata": {},
   "source": [
    "# Hello and welcome to `Loops and Conditionals`'s in Pythyon3\n",
    "My name is Alyssa and I will be guiding you through this tutorial."
   ]
  },
  {
   "cell_type": "markdown",
   "metadata": {},
   "source": [
    "I want to start off with a disclaimer, this is not a comprehensive overview, this is ment to be an introduction. Furthermore, **do not be afraid to read [documentation](https://docs.python.org/3/)**. These subjects can be tricky, and it is actually very useful (and can even be fun) to read the docs to get a better idea of how to properly use them."
   ]
  },
  {
   "cell_type": "markdown",
   "metadata": {},
   "source": [
    "So in the previous tutorial(s), you've gone through ints, floats, strings, and booleans.  If you're unsure about what these are, please return to the previous tutorial named Python: Variable Types.  In this tutorial, we will be going through the basics of how loops and conditional statements work in your python code.  "
   ]
  },
  {
   "cell_type": "markdown",
   "metadata": {},
   "source": [
    "## Conditionals "
   ]
  },
  {
   "cell_type": "markdown",
   "metadata": {},
   "source": [
    "We're going to start with conditional statements.  To understand conditionals, it's very important you have a solid grasp on boolean variables as well, so we're going to review those variable types first. \n",
    "\n",
    "A **boolean** is a variable that is set to either True or False. \n",
    "\n",
    "A **conditional statement** is a rule used to check whether a condition is met. Sometimes these are referred to as IF-THEN statements because the way they work is IF something is True, THEN something occurs. \n",
    "\n",
    "Let's go through some examples below.   "
   ]
  },
  {
   "cell_type": "code",
   "execution_count": null,
   "metadata": {},
   "outputs": [],
   "source": [
    "## Do you think one, neither, or both of these statements will print true?  \n",
    "\n",
    "x = True # first we set the variable x to True.  This is our boolean\n",
    "\n",
    "if x == True: ## here we use a conditional If statement to ask if x is true\n",
    "    print(\"True\")  ## if so, then we do this\n",
    "\n",
    "if x:  ## we can also just ask if X since X is set to a boolean\n",
    "    print(\"True\")\n",
    "\n",
    "################################################################################################################################\n",
    "z = 5  \n",
    "\n",
    "if z == 5: ## we can also check if z equal a specific int, float, or string \n",
    "    print(\"Z equals five\")\n",
    "else:\n",
    "    print(\"Z does not equal five\")"
   ]
  },
  {
   "cell_type": "code",
   "execution_count": null,
   "metadata": {},
   "outputs": [],
   "source": [
    "## Other examples\n",
    "### FALSE ###\n",
    "## What do you think will print out from these statements?\n",
    "y = False\n",
    "if y == False:\n",
    "    print(\"False\")\n",
    "if y:\n",
    "    print(\"True\")\n",
    "\n",
    "### STRINGS ####\n",
    "name = \"Jennifer\"\n",
    "if name == \"Ken\":\n",
    "    print(\"Hi my name is Ken\")\n",
    "else:\n",
    "    print(\"Name is not Ken\")\n"
   ]
  },
  {
   "cell_type": "markdown",
   "metadata": {},
   "source": [
    "Now we're going to have you do an example.  Let's imagine you're driving down the road, and you're trying to decide whether to stop for gas.  You have two variables to consider here: how many gallons of gas do you have left and how far are you from the next gas station.  Let's say you have 2 gallons of gas left in your tank and you are 10 miles from the nearest gas station.\n",
    "\n",
    "Let's write up some pseudo-code:\n",
    "\n",
    "gallons_left = 2\n",
    "\n",
    "miles_2_gas = 10\n",
    "\n",
    "Let's say if the gallons left are less than 3 and the distance is more than 20, we stop to get gas.  If anything else is true we go to the next station.  Code it up in the space below.  "
   ]
  },
  {
   "cell_type": "code",
   "execution_count": null,
   "metadata": {},
   "outputs": [],
   "source": [
    "## set variables \n",
    "gallons_left = 2\n",
    "miles_2_gas = 10\n",
    "\n",
    "## ADD YOUR CODE HERE ##\n",
    "## if-then statement \n"
   ]
  },
  {
   "cell_type": "markdown",
   "metadata": {},
   "source": [
    "## Loops"
   ]
  },
  {
   "cell_type": "markdown",
   "metadata": {},
   "source": [
    "We have two types of loops we'll cover here **for** loops and **while** loops.  \n",
    "\n",
    "A \"for\" loop will iterate over a list or range as seen in the example below.  \n",
    "\n",
    "A \"while\" loop will continue as long as the condition is true.  "
   ]
  },
  {
   "cell_type": "markdown",
   "metadata": {},
   "source": [
    "#### FOR Loop"
   ]
  },
  {
   "cell_type": "code",
   "execution_count": null,
   "metadata": {},
   "outputs": [],
   "source": [
    "## FOR LOOP ##\n",
    "\n",
    "# Let's say we have a list of six names \n",
    "names = [\"Jordan\", \"Francisco\", \"Adam\", \"Alex\", \"Wes\", \"Hannah\"]\n",
    "\n",
    "# let's loop through them and print every name\n",
    "## so we'll write a for loop\n",
    "\n",
    "for name in names: ## I could have also said \"for x in names:\"\n",
    "    print(name)"
   ]
  },
  {
   "cell_type": "markdown",
   "metadata": {},
   "source": [
    "Now let's say I only want to print the name if it starts with an \"A\" so we combine the for loop with a conditional statement.  "
   ]
  },
  {
   "cell_type": "code",
   "execution_count": null,
   "metadata": {},
   "outputs": [],
   "source": [
    "for name in names:  ## for loop \n",
    "    if name.startswith(\"A\"):  ## if the name starts with A - .startswith is a method of string\n",
    "        print(name) ## then print name"
   ]
  },
  {
   "cell_type": "markdown",
   "metadata": {},
   "source": [
    "#### WHILE Loop"
   ]
  },
  {
   "cell_type": "code",
   "execution_count": null,
   "metadata": {},
   "outputs": [],
   "source": [
    "## While Loop ##\n",
    "\n",
    "x = 0  # here I'm setting my variable x to 0 initially\n",
    "\n",
    "while x < 15: ## while x is less than 15, my program will run\n",
    "    print(x) ## it will print out x\n",
    "    x+=1 ## VERY IMPORTANT - each iteration it will add 1 to x.  \n",
    "    ## If we don't add one each iteration, then we will be stuck in an infinite loop because x will never be greater than 15"
   ]
  },
  {
   "cell_type": "markdown",
   "metadata": {},
   "source": [
    "Let's do an example.  Using the list of names above, can you only print out the names that longer than 4 letters (ie. len(name) > 4 ).  Note that an easy way to do this is to utilize the function len(x) where x is the variable that you want to get the length of."
   ]
  },
  {
   "cell_type": "code",
   "execution_count": null,
   "metadata": {},
   "outputs": [],
   "source": [
    "## ADD YOUR CODE HERE##"
   ]
  },
  {
   "cell_type": "markdown",
   "metadata": {},
   "source": [
    "Let's do a more bioinformatics type problem now.  You're given a string of DNA.  You want to count up the number of A, G, C, and T's.  How would you do this?  With loops and conditionals, of course!  "
   ]
  },
  {
   "cell_type": "code",
   "execution_count": null,
   "metadata": {},
   "outputs": [],
   "source": [
    "dna = \"GAGCGACGCGACGGTTTCCTCACTGTACTGTTTGCCATAACAAGCGCT\"  ## here's our DNA string\n",
    "\n",
    "## NOW we want to loop throught it, how should we do this? \n",
    "\n",
    "dnalist = list(dna)  ## we turn the string into a list of strings instead, one character per index\n",
    "\n",
    "## we now want to initialize our variables for the totals\n",
    "totalA = 0\n",
    "totalC = 0 \n",
    "totalG = 0\n",
    "totalT = 0\n",
    "\n",
    "for basepair in dnalist: ## now let's look at our foor loop\n",
    "    if basepair == \"A\":\n",
    "        totalA+=1\n",
    "    elif basepair == \"C\":\n",
    "        totalC+=1\n",
    "    elif basepair == \"G\":\n",
    "        totalG+=1\n",
    "    elif basepair == \"T\":\n",
    "        totalT+=1\n",
    "    else:\n",
    "        print(\"ERROR: Not a basepair\")\n",
    "\n",
    "## after the loop completes let's print out our results:\n",
    "\n",
    "print(\"A: {}, C:{}, G:{}, T:{}\".format(totalA, totalC, totalG, totalT))"
   ]
  },
  {
   "cell_type": "markdown",
   "metadata": {},
   "source": [
    "Let's have you do another example where you convert a strand of DNA to RNA by converting all the thymines (Ts) to Uracils (Us)"
   ]
  },
  {
   "cell_type": "code",
   "execution_count": null,
   "metadata": {},
   "outputs": [],
   "source": [
    "dna = \"GATGGAACTTGACTACGTAAATT\"\n",
    "\n",
    "## ADD YOUR CODE HERE ##"
   ]
  },
  {
   "cell_type": "markdown",
   "metadata": {},
   "source": [
    "Okay!  That's it for loops and conditionals!  There are lots of other great tutorials and videos online, so if you want further practice please explore some of these resources.  One great resource is http://rosalind.info/problems/list-view/  "
   ]
  }
 ],
 "metadata": {
  "kernelspec": {
   "display_name": "Python 3",
   "language": "python",
   "name": "python3"
  },
  "language_info": {
   "codemirror_mode": {
    "name": "ipython",
    "version": 3
   },
   "file_extension": ".py",
   "mimetype": "text/x-python",
   "name": "python",
   "nbconvert_exporter": "python",
   "pygments_lexer": "ipython3",
   "version": "3.6.5"
  }
 },
 "nbformat": 4,
 "nbformat_minor": 2
}
