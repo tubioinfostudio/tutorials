{
 "cells": [
  {
   "cell_type": "markdown",
   "metadata": {},
   "source": [
    "# Hello and welcome to `int`'s and `float`'s in Pythyon3\n",
    "My name is Jordan and I will be guiding you through this tutorial."
   ]
  },
  {
   "cell_type": "markdown",
   "metadata": {},
   "source": [
    "I want to start off with a disclaimer, this is not a comprehensive overview, this is ment to be an introduction. Furthermore, **do not be afraid to read [documentation](https://docs.python.org/3/)**. These subjects can be tricky, and it is actually very useful (and can even be fun) to read the docs to get a better idea of how to properly use them."
   ]
  },
  {
   "cell_type": "markdown",
   "metadata": {},
   "source": [
    "### Lets go over a few things first. \n",
    "There are only a few different types of data you have to keep in mind when working in Python, or any other language for that matter. The best news is that Python is a weakly types language. This means that you do NOT need to declaire the type of variable before you assign it. Lets jump in"
   ]
  },
  {
   "cell_type": "markdown",
   "metadata": {},
   "source": [
    "### Our `types`\n",
    "#### Int\n",
    "- whole numbers (1,2,74, etc)\n",
    "\n",
    "#### Float\n",
    "- numbers with a decimal (3.5, -7.234, etc)"
   ]
  },
  {
   "cell_type": "markdown",
   "metadata": {},
   "source": [
    "#### With this new information, lets get coding\n",
    "\n",
    "We will first start by initializing some variables"
   ]
  },
  {
   "cell_type": "code",
   "execution_count": null,
   "metadata": {},
   "outputs": [],
   "source": [
    "my_int = 10\n",
    "my_float = 2.4"
   ]
  },
  {
   "cell_type": "markdown",
   "metadata": {},
   "source": [
    "#### Lets now use the built in `type` function to see what type our variables are "
   ]
  },
  {
   "cell_type": "code",
   "execution_count": null,
   "metadata": {},
   "outputs": [],
   "source": [
    "print(type(my_int))\n",
    "print(type(my_float))"
   ]
  },
  {
   "cell_type": "markdown",
   "metadata": {},
   "source": [
    "## Lets look at `int`'s "
   ]
  },
  {
   "cell_type": "markdown",
   "metadata": {},
   "source": [
    "#### We can perform simple math with the variables... lets try"
   ]
  },
  {
   "cell_type": "code",
   "execution_count": null,
   "metadata": {},
   "outputs": [],
   "source": [
    "s = 4 + 5 \n",
    "print(s)\n",
    "\n",
    "# below is a multi line comment\n",
    "'''\n",
    "we do not need to always save a variable before we print it\n",
    "we can just print the value this way:\n",
    "'''\n",
    "print(4+5)\n",
    "print(4-5)\n",
    "print(4*5)"
   ]
  },
  {
   "cell_type": "markdown",
   "metadata": {},
   "source": [
    "Ok that all makes sense, so how about doing some division, this is where things get a little interesting. What do you think happens when you divide an `int` by another `int`?  What type do you think is returned? Well lets look"
   ]
  },
  {
   "cell_type": "code",
   "execution_count": null,
   "metadata": {},
   "outputs": [],
   "source": [
    "print(4/5)\n",
    "print(type(4/5))"
   ]
  },
  {
   "cell_type": "markdown",
   "metadata": {},
   "source": [
    "A decimal...? a float...? Yes, Python is saying \"hey I think you want this output to be a decimal, so I will just do it for you.\" Great, but what about the modulo, `%`, operator? "
   ]
  },
  {
   "cell_type": "code",
   "execution_count": null,
   "metadata": {},
   "outputs": [],
   "source": [
    "print(3%2)"
   ]
  },
  {
   "cell_type": "markdown",
   "metadata": {},
   "source": [
    "Above what is happening, you have the number **3** being divided by the number **2** and the result is **1**. This is the same as saying, hey when you divide 3 by 2, 2 goes into 3 one time, and there is a remainder of 1. Thus, the modulo is just returning the remainder. "
   ]
  },
  {
   "cell_type": "markdown",
   "metadata": {},
   "source": [
    "Lets look at `casting` for a second. This occurs when you have one variable type and you want to change it to another variable type."
   ]
  },
  {
   "cell_type": "markdown",
   "metadata": {},
   "source": [
    "Great, so what happens if we want to cast our `float` variable (that we made above) to an `int` variable?... before you run the code, think about what might happen."
   ]
  },
  {
   "cell_type": "code",
   "execution_count": null,
   "metadata": {},
   "outputs": [],
   "source": [
    "my_new_var = float(my_int) # remember my_int = 10\n",
    "print(my_new_var)\n",
    "print(type(my_new_var))"
   ]
  },
  {
   "cell_type": "markdown",
   "metadata": {},
   "source": [
    "Awesome! it just took our `10` and turned that into the float version, or decimal version. What if we want to do it the other way around?...."
   ]
  },
  {
   "cell_type": "code",
   "execution_count": null,
   "metadata": {
    "scrolled": true
   },
   "outputs": [],
   "source": [
    "my_next_var = int(my_float) # remember my_float is 2.4\n",
    "print(my_next_var)\n",
    "print(type(my_next_var))"
   ]
  },
  {
   "cell_type": "markdown",
   "metadata": {},
   "source": [
    "Woah... so it dropped our decimal and rounded... but how exactly does it round? lets find out."
   ]
  },
  {
   "cell_type": "code",
   "execution_count": null,
   "metadata": {},
   "outputs": [],
   "source": [
    "test_1 = 2.3\n",
    "test_2 = 2.5\n",
    "test_3 = 2.7\n",
    "test_4 = 2.9\n",
    "\n",
    "print(\"this is the original float:\", test_1)\n",
    "print(\"this is the float casted as an int:\", int(test_1))\n",
    "print('\\n')\n",
    "\n",
    "print(\"this is the original float:\", test_2)\n",
    "print(\"this is the float casted as an int:\", int(test_2)) \n",
    "print('\\n')\n",
    "\n",
    "print(\"this is the original float:\", test_3)\n",
    "print(\"this is the float casted as an int:\", int(test_3)) \n",
    "print('\\n')\n",
    "\n",
    "print(\"this is the original float:\", test_4)\n",
    "print(\"this is the float casted as an int:\", int(test_4)) \n",
    "print('\\n')"
   ]
  },
  {
   "cell_type": "markdown",
   "metadata": {},
   "source": [
    "So you're telling me that NO MATTER WHAT THE DECIMAL IS it will always round DOWN??? Well its not exactly 'rounding down,' it is simply dropping off the extral decimal. It is saying, \"Hey, I see that you have 2.9 and you want to make it an int... well I am going to drop the .9 and make it just 2... deal with it!\""
   ]
  },
  {
   "cell_type": "markdown",
   "metadata": {},
   "source": [
    "You can do all the fun things that you can do on `int`'s to `float`'s, so go crazy!"
   ]
  },
  {
   "cell_type": "markdown",
   "metadata": {},
   "source": [
    "I will leave you with this, if you ever want to know what methods python already has built in for that data type, just type `dir(var_name)`. I will show you"
   ]
  },
  {
   "cell_type": "code",
   "execution_count": null,
   "metadata": {},
   "outputs": [],
   "source": [
    "dir(my_int)"
   ]
  },
  {
   "cell_type": "markdown",
   "metadata": {},
   "source": [
    "These are all the methods that python3 already allows you to run on your variable. Lets try."
   ]
  },
  {
   "cell_type": "code",
   "execution_count": null,
   "metadata": {},
   "outputs": [],
   "source": [
    "bit = my_int.bit_length()\n",
    "print(bit)"
   ]
  },
  {
   "cell_type": "markdown",
   "metadata": {},
   "source": [
    "Lets look at it for floats"
   ]
  },
  {
   "cell_type": "code",
   "execution_count": null,
   "metadata": {},
   "outputs": [],
   "source": [
    "dir(my_float)"
   ]
  },
  {
   "cell_type": "markdown",
   "metadata": {},
   "source": [
    "As you can see, there are many things you can do with these data types. Go crazy!\n",
    "\n",
    "This is a short, but useful introduction to integers and floats in Python3. Keep in mind that each language handles these types differently and it is important to know how each language that you work with does. Python is weakly typed, which means we can cast, and change our types pretty easily without getting errors. Enjoy!"
   ]
  }
 ],
 "metadata": {
  "kernelspec": {
   "display_name": "Python 3",
   "language": "python",
   "name": "python3"
  },
  "language_info": {
   "codemirror_mode": {
    "name": "ipython",
    "version": 3
   },
   "file_extension": ".py",
   "mimetype": "text/x-python",
   "name": "python",
   "nbconvert_exporter": "python",
   "pygments_lexer": "ipython3",
   "version": "3.6.5"
  }
 },
 "nbformat": 4,
 "nbformat_minor": 2
}
