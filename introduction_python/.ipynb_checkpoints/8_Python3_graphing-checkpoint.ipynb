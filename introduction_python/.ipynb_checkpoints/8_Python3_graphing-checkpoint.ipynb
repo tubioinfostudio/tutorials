{
 "cells": [
  {
   "cell_type": "markdown",
   "metadata": {},
   "source": [
    "# Hello and welcome to `Graphing`'s in Pythyon3\n",
    "My name is Alyssa and I will be guiding you through this tutorial."
   ]
  },
  {
   "cell_type": "markdown",
   "metadata": {},
   "source": [
    "I want to start off with a disclaimer, this is not a comprehensive overview, this is ment to be an introduction. Furthermore, **do not be afraid to read [MATPLOTLIB](https://matplotlib.org/) and [SEABORN](https://seaborn.pydata.org/)**. These subjects can be tricky, and it is actually very useful (and can even be fun) to read the docs to get a better idea of how to properly use them."
   ]
  },
  {
   "cell_type": "markdown",
   "metadata": {},
   "source": [
    "We're going to try to graph the data from the last tutorial on PANDAS.  We'll need to download the following python packages: \n",
    "\n",
    "matplotlib (http://matplotlib.org/) -- a library for data visualization\n",
    "seaborn (https://seaborn.pydata.org/) -- another library for data visualization \n",
    "\n",
    "matplotlib allows visualizing data stored in DataFrame or array objects.\n",
    "\n",
    "As you will soon realize, each new Python library requires spending some time to learn about it. There are several nice tutorials that you can find on the web that get you started with the 2 libraries. When learning about the new libraries, you are best advised to jump in and immediatelly start tinkering with the code. The more time you spend using the library, the more you will uncover about all the great features and posibilities the library offers you."
   ]
  },
  {
   "cell_type": "code",
   "execution_count": null,
   "metadata": {},
   "outputs": [],
   "source": [
    "## load the python libraries\n",
    "import pandas as pd\n",
    "import numpy as np\n",
    "import matplotlib.pyplot as plt\n",
    "import seaborn as sns\n",
    "# the following line allows ipython to display plots\n",
    "%matplotlib inline  "
   ]
  },
  {
   "cell_type": "code",
   "execution_count": null,
   "metadata": {},
   "outputs": [],
   "source": [
    "## First we'll read in the csv file\n",
    "# read this csv file, remember to put the full path to \n",
    "# the directory where you saved the data\n",
    "df = pd.read_csv('gene_human.csv')  # df is DataFrame object"
   ]
  },
  {
   "cell_type": "markdown",
   "metadata": {},
   "source": [
    "### MATPLOT LIB"
   ]
  },
  {
   "cell_type": "code",
   "execution_count": null,
   "metadata": {},
   "outputs": [],
   "source": [
    "plt.figure(figsize=(6,2))  # can control the size of the display\n",
    "plt.plot(df['chr'])      # display 'chr' attribute"
   ]
  },
  {
   "cell_type": "markdown",
   "metadata": {},
   "source": [
    "Now what if we wanted to plot a histogram instead?"
   ]
  },
  {
   "cell_type": "code",
   "execution_count": null,
   "metadata": {},
   "outputs": [],
   "source": [
    "fig = plt.figure(figsize=(5,2))\n",
    "plt.hist(df['chr'], bins=20);   # ; suppresses Out\n"
   ]
  },
  {
   "cell_type": "code",
   "execution_count": null,
   "metadata": {},
   "outputs": [],
   "source": [
    "plt.hist(df['orientation'], bins=20) "
   ]
  },
  {
   "cell_type": "markdown",
   "metadata": {},
   "source": [
    "What if we wanted to know what percentage of each of the genes fell on each chromosomes? If we wanted to do some statistics on the data: "
   ]
  },
  {
   "cell_type": "code",
   "execution_count": null,
   "metadata": {},
   "outputs": [],
   "source": [
    "t = pd.crosstab(index=df[\"chr\"],  # Make a crosstab\n",
    "                     columns=\"count\")     # Name the count column\n",
    "t['percentage']= (t/t.sum())*100\n",
    "print(t)"
   ]
  },
  {
   "cell_type": "markdown",
   "metadata": {},
   "source": [
    "Some other types of graphs are shown here below:"
   ]
  },
  {
   "cell_type": "code",
   "execution_count": null,
   "metadata": {},
   "outputs": [],
   "source": [
    "## Horizontal bar plot \n",
    "plt.figure(figsize=(5,2))\n",
    "plt.barh(t.index,t[\"count\"])"
   ]
  },
  {
   "cell_type": "code",
   "execution_count": null,
   "metadata": {},
   "outputs": [],
   "source": [
    "## Pie chart\n",
    "plt.figure(figsize=(5,2))\n",
    "plt.axis(\"equal\")\n",
    "plt.pie(t[\"count\"],labels=t.index,startangle=90)"
   ]
  },
  {
   "cell_type": "code",
   "execution_count": null,
   "metadata": {},
   "outputs": [],
   "source": [
    "## Boxplots\n",
    "df.boxplot(column='exon',by='chr')"
   ]
  },
  {
   "cell_type": "code",
   "execution_count": null,
   "metadata": {},
   "outputs": [],
   "source": [
    "## Scatterplot\n",
    "plt.figure(figsize=(5,3))\n",
    "plt.scatter(df['chr'],df['start'])"
   ]
  },
  {
   "cell_type": "markdown",
   "metadata": {},
   "source": [
    "Pandas scatter_matrix method allows us to plot all scatterplots for a data set (it would take a few seconds to display):"
   ]
  },
  {
   "cell_type": "code",
   "execution_count": null,
   "metadata": {},
   "outputs": [],
   "source": [
    "pd.scatter_matrix(df)"
   ]
  },
  {
   "cell_type": "markdown",
   "metadata": {},
   "source": [
    "### Seaborn"
   ]
  },
  {
   "cell_type": "code",
   "execution_count": null,
   "metadata": {},
   "outputs": [],
   "source": [
    "## do the pair plot in seaborn \n",
    "sns.set(style=\"ticks\")\n",
    "sns.pairplot(df, hue=\"chr\")"
   ]
  },
  {
   "cell_type": "code",
   "execution_count": null,
   "metadata": {},
   "outputs": [],
   "source": [
    "g = sns.jointplot(\"chr\", \"start\", data=df, kind=\"reg\", color=\"m\")"
   ]
  },
  {
   "cell_type": "markdown",
   "metadata": {},
   "source": [
    "If you have your own data sets to work with, please try out some of the other graph choices.  Seaborn has some really great options for graphs that come out looking pretty finished.  One of the great things about matplotlib is that it allows you the freedom to make lots of changes to the settings including height, width, color, scale, tick marks, and more.  Please continue to refer to the documention for each library to understand the full extent of the possibilities!"
   ]
  }
 ],
 "metadata": {
  "kernelspec": {
   "display_name": "Python 3",
   "language": "python",
   "name": "python3"
  },
  "language_info": {
   "codemirror_mode": {
    "name": "ipython",
    "version": 3
   },
   "file_extension": ".py",
   "mimetype": "text/x-python",
   "name": "python",
   "nbconvert_exporter": "python",
   "pygments_lexer": "ipython3",
   "version": "3.6.5"
  }
 },
 "nbformat": 4,
 "nbformat_minor": 2
}
