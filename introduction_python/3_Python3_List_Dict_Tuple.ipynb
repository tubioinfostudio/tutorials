{
 "cells": [
  {
   "cell_type": "markdown",
   "metadata": {},
   "source": [
    "# Hello and welcome to `list`'s, `dict`'s, and `tuple`'s in Pythyon3\n",
    "My name is Jordan and I will be guiding you through this tutorial.# "
   ]
  },
  {
   "cell_type": "markdown",
   "metadata": {},
   "source": [
    "I want to start off with a disclaimer, this is not a comprehensive overview, this is ment to be an introduction. Furthermore, **do not be afraid to read [documentation](https://docs.python.org/3/)**. These subjects can be tricky, and it is actually very useful (and can even be fun) to read the docs to get a better idea of how to properly use them."
   ]
  },
  {
   "cell_type": "markdown",
   "metadata": {},
   "source": [
    "### Our `types`\n",
    "#### Lists\n",
    "- these are a collection of any data type. you can have a list of strings, a list of ints, a list of a combination of all different types. you can even have a list of lists... \n",
    "\n",
    "#### Dictionary\n",
    "- Dictionaries have a Key and a Value. think of a phone book, there are names and then numbers associated with each name. You cannot duplicate Keys in the dictionary, and each key and value can be of **any** type These are very handy, but they take a little practice to get proficient with\n",
    "\n",
    "#### Tuple\n",
    "- Tuples are another `immutable` type, and often have niche uses. mostly when you return multiple things from a function, they will be in the form of a tuple. they can be very handy"
   ]
  },
  {
   "cell_type": "code",
   "execution_count": null,
   "metadata": {},
   "outputs": [],
   "source": [
    "my_list = ['dog','cat','duck']\n",
    "my_dict = {'jordan':'cool', 'alyssa':'smart', 'alex':'coding god'}\n",
    "my_tuple = ('yin','yang')"
   ]
  },
  {
   "cell_type": "markdown",
   "metadata": {},
   "source": [
    "### Lets take a look at `list`'s first. List are extremely useful and are very common. Learning to manipulate lists is a very useful skill. "
   ]
  },
  {
   "cell_type": "code",
   "execution_count": null,
   "metadata": {},
   "outputs": [],
   "source": [
    "print(my_list)\n",
    "print(type(my_list))"
   ]
  },
  {
   "cell_type": "markdown",
   "metadata": {},
   "source": [
    "In this first instance, this list is comprised totally of strings. However, lists can contain anything. Lets take a look at some methods we can perform on `list`'s."
   ]
  },
  {
   "cell_type": "code",
   "execution_count": null,
   "metadata": {},
   "outputs": [],
   "source": [
    "dir(my_list)"
   ]
  },
  {
   "cell_type": "code",
   "execution_count": null,
   "metadata": {},
   "outputs": [],
   "source": [
    "my_list.append('monkey')\n",
    "print(my_list)"
   ]
  },
  {
   "cell_type": "markdown",
   "metadata": {},
   "source": [
    "As you can see, `monkey` was added to the end of `my_list`. You can insert, reverse, sort, etc on a list, and this is where you can become extremely efficient."
   ]
  },
  {
   "cell_type": "markdown",
   "metadata": {},
   "source": [
    "We can count the length of our lists like so:"
   ]
  },
  {
   "cell_type": "code",
   "execution_count": null,
   "metadata": {},
   "outputs": [],
   "source": [
    "len(my_list)"
   ]
  },
  {
   "cell_type": "markdown",
   "metadata": {},
   "source": [
    "### We can index our `list` very simply:"
   ]
  },
  {
   "cell_type": "code",
   "execution_count": null,
   "metadata": {},
   "outputs": [],
   "source": [
    "my_list[2]\n",
    "# what do you think the output will be?"
   ]
  },
  {
   "cell_type": "markdown",
   "metadata": {},
   "source": [
    "Python indexes in a bit of an annoying way (at first), it starts at zero, so our list indicies are as follows:\n",
    "\n",
    "  0,    1,      2,      3\n",
    "\n",
    "`dog`, `cat`, `duck`, `monkey`"
   ]
  },
  {
   "cell_type": "markdown",
   "metadata": {},
   "source": [
    "### Lets iterate over our list and have a little fun.\n",
    "We will create a new list by manipulating what is in our `my_list` variable."
   ]
  },
  {
   "cell_type": "code",
   "execution_count": null,
   "metadata": {},
   "outputs": [],
   "source": [
    "new_list = []\n",
    "for i in my_list:\n",
    "    new_list.append(i.upper())\n",
    "\n",
    "print(new_list)"
   ]
  },
  {
   "cell_type": "markdown",
   "metadata": {},
   "source": [
    "We can even turn this into one line in Python3... check it out"
   ]
  },
  {
   "cell_type": "code",
   "execution_count": null,
   "metadata": {},
   "outputs": [],
   "source": [
    "new_new_list =  [i.upper() for i in my_list]\n",
    "print(new_new_list)"
   ]
  },
  {
   "cell_type": "code",
   "execution_count": null,
   "metadata": {},
   "outputs": [],
   "source": [
    "# we can add lists together\n",
    "print(new_list + new_list)\n",
    "print('\\n')\n",
    "\n",
    "# multiply them by using the length of the list!\n",
    "print(new_list *  len(new_list))"
   ]
  },
  {
   "cell_type": "markdown",
   "metadata": {},
   "source": [
    "We are barely scratching the surface with lists, so go on and get wild with them."
   ]
  },
  {
   "cell_type": "markdown",
   "metadata": {},
   "source": [
    "### Lets take a look now at `dict`'s or dictionaries\n",
    "\n",
    "These are the typical key and value pairs of data stored together. The key can be of any data type, and the value can be of any data type, **so long as each key in the dictionary is unique**"
   ]
  },
  {
   "cell_type": "code",
   "execution_count": null,
   "metadata": {},
   "outputs": [],
   "source": [
    "print(my_dict)"
   ]
  },
  {
   "cell_type": "markdown",
   "metadata": {},
   "source": [
    "What if we just want to look at the `key`'s? What about just the `value`'s? Have no fear."
   ]
  },
  {
   "cell_type": "code",
   "execution_count": null,
   "metadata": {},
   "outputs": [],
   "source": [
    "print(my_dict.keys())"
   ]
  },
  {
   "cell_type": "code",
   "execution_count": null,
   "metadata": {},
   "outputs": [],
   "source": [
    "print(my_dict.values())"
   ]
  },
  {
   "cell_type": "code",
   "execution_count": null,
   "metadata": {},
   "outputs": [],
   "source": [
    "print(my_dict.items())"
   ]
  },
  {
   "cell_type": "markdown",
   "metadata": {},
   "source": [
    "#### We can index our `dict` very simply... observe"
   ]
  },
  {
   "cell_type": "code",
   "execution_count": null,
   "metadata": {},
   "outputs": [],
   "source": [
    "my_dict['jordan']"
   ]
  },
  {
   "cell_type": "markdown",
   "metadata": {},
   "source": [
    "### We can update our dict with an `update` feature, like so:"
   ]
  },
  {
   "cell_type": "code",
   "execution_count": null,
   "metadata": {},
   "outputs": [],
   "source": [
    "this_dict = {'new person':'unsure'}\n",
    "my_dict.update(this_dict)\n",
    "print(my_dict)"
   ]
  },
  {
   "cell_type": "markdown",
   "metadata": {},
   "source": [
    "As you can see, the `new person` key was added along with the `unsure` value. And the `my_dict` dictionary is updated! This can be wildly useful when you have a large set of data and need to add data to it when you have keys and values. For example, if you have a bunch of sequence data with accompanying sequence data. You can have an accession number be a key, and all the information associated with the accession number as the value."
   ]
  },
  {
   "cell_type": "markdown",
   "metadata": {},
   "source": [
    "### Lets move on to our final data type, our `tuple`."
   ]
  },
  {
   "cell_type": "markdown",
   "metadata": {},
   "source": [
    "Tuples are interesting because they are immutable, which means that ones they are created they cannot be changed. We will look at how to use them here. Keep in mind, they are used in niche situations, and when you have the flexibility to use a different data type, I would recommend it. "
   ]
  },
  {
   "cell_type": "code",
   "execution_count": null,
   "metadata": {},
   "outputs": [],
   "source": [
    "print(my_tuple)"
   ]
  },
  {
   "cell_type": "code",
   "execution_count": null,
   "metadata": {},
   "outputs": [],
   "source": [
    "dir(my_tuple)"
   ]
  },
  {
   "cell_type": "markdown",
   "metadata": {},
   "source": [
    "As you can see, there are not as many methods you can perform on a tuple. But, lets try a few"
   ]
  },
  {
   "cell_type": "markdown",
   "metadata": {},
   "source": [
    "#### Lets index our `tuple`, notice it is done the same way you index a list, with integers. "
   ]
  },
  {
   "cell_type": "code",
   "execution_count": null,
   "metadata": {},
   "outputs": [],
   "source": [
    "my_tuple[0]"
   ]
  },
  {
   "cell_type": "code",
   "execution_count": null,
   "metadata": {},
   "outputs": [],
   "source": [
    "my_tuple[1]"
   ]
  },
  {
   "cell_type": "markdown",
   "metadata": {},
   "source": [
    "As always, we are just scratching the surface with the usability of ``"
   ]
  }
 ],
 "metadata": {
  "kernelspec": {
   "display_name": "Python 3",
   "language": "python",
   "name": "python3"
  },
  "language_info": {
   "codemirror_mode": {
    "name": "ipython",
    "version": 3
   },
   "file_extension": ".py",
   "mimetype": "text/x-python",
   "name": "python",
   "nbconvert_exporter": "python",
   "pygments_lexer": "ipython3",
   "version": "3.6.5"
  }
 },
 "nbformat": 4,
 "nbformat_minor": 2
}
