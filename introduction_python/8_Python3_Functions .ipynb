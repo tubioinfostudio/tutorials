{
 "cells": [
  {
   "cell_type": "markdown",
   "metadata": {},
   "source": [
    "# Hello and welcome to `functions`'s in Pythyon3\n",
    "My name is Jordan and I will be guiding you through this tutorial."
   ]
  },
  {
   "cell_type": "markdown",
   "metadata": {},
   "source": [
    "I want to start off with a disclaimer, this is not a comprehensive overview, this is ment to be an introduction. Furthermore, **do not be afraid to read [documentation](https://docs.python.org/3/)**. These subjects can be tricky, and it is actually very useful (and can even be fun) to read the docs to get a better idea of how to properly use them."
   ]
  },
  {
   "cell_type": "markdown",
   "metadata": {},
   "source": [
    "### You cant spell function without spelling fun!\n",
    "\n",
    "But seriously, these are wildly useful and very fun once you get the hang of them. They may be intimidating at first, but with a little practice, I know you will crush them. Lets jump in"
   ]
  },
  {
   "cell_type": "markdown",
   "metadata": {},
   "source": [
    "#### We need to start off by declairing our function.\n",
    "\n",
    "In Python3, we need to declair our functions **before** we use them.\n",
    "Lets just make a little function that tests whether or not a number is even."
   ]
  },
  {
   "cell_type": "code",
   "execution_count": null,
   "metadata": {},
   "outputs": [],
   "source": [
    "def is_even(num):\n",
    "    if num % 2 == 0:\n",
    "        return True\n",
    "    else:\n",
    "        return False\n",
    "    \n",
    "    "
   ]
  },
  {
   "cell_type": "code",
   "execution_count": null,
   "metadata": {},
   "outputs": [],
   "source": [
    "print(is_even(10))\n",
    "print(is_even(3))\n",
    "print(is_even(5))\n",
    "print(is_even(100000000))"
   ]
  },
  {
   "cell_type": "markdown",
   "metadata": {},
   "source": [
    "#### We are calling our function `is_even` in our block of code within the print statement. \n",
    "\n",
    "We are passing our function a number, an `int`, and determining if that number has a remainder of 0 when we use the modulo operator on it. If the remainder is 0 then we return `True`, otherwise we return `False`. This is really as complicated as it needs to get with functions. You can make them extremely crazy, or you can make them very simple. They are best used when you find yourself copying and pasting a lot of code. If you have a list of numbers and you want to  check every one of them to see if they are even or not, this function will work just fine! Try to write that out on your own and see what you come up with. Keep in mind, when you return more than one thing, it becomes a `tuple`, and you have  to index accordingly."
   ]
  },
  {
   "cell_type": "code",
   "execution_count": null,
   "metadata": {},
   "outputs": [],
   "source": []
  }
 ],
 "metadata": {
  "kernelspec": {
   "display_name": "Python 3",
   "language": "python",
   "name": "python3"
  },
  "language_info": {
   "codemirror_mode": {
    "name": "ipython",
    "version": 3
   },
   "file_extension": ".py",
   "mimetype": "text/x-python",
   "name": "python",
   "nbconvert_exporter": "python",
   "pygments_lexer": "ipython3",
   "version": "3.6.5"
  }
 },
 "nbformat": 4,
 "nbformat_minor": 2
}
